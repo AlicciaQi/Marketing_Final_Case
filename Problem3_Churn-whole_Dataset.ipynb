{
 "cells": [
  {
   "cell_type": "code",
   "execution_count": 2,
   "metadata": {},
   "outputs": [],
   "source": [
    "import os\n",
    "import pandas as pd\n",
    "import numpy as np\n",
    "import matplotlib.pyplot as plt\n",
    "import matplotlib as mpl\n",
    "from sklearn.model_selection import train_test_split\n",
    "from sklearn.metrics import classification_report\n",
    "from sklearn.metrics import confusion_matrix\n",
    "import itertools\n",
    "from sklearn.metrics import roc_auc_score,roc_curve\n",
    "from sklearn.linear_model import LogisticRegression"
   ]
  },
  {
   "cell_type": "code",
   "execution_count": 3,
   "metadata": {},
   "outputs": [
    {
     "name": "stdout",
     "output_type": "stream",
     "text": [
      "Current Working Directory  /Users/aliccia/Desktop/Final Case\n"
     ]
    }
   ],
   "source": [
    "print(\"Current Working Directory \" , os.getcwd())"
   ]
  },
  {
   "cell_type": "code",
   "execution_count": 4,
   "metadata": {},
   "outputs": [],
   "source": [
    "os.chdir(\"/Users/aliccia/Desktop/Final Case\")"
   ]
  },
  {
   "cell_type": "code",
   "execution_count": 5,
   "metadata": {},
   "outputs": [],
   "source": [
    "data = pd.read_csv(\"data_clean.csv\")"
   ]
  },
  {
   "cell_type": "code",
   "execution_count": 6,
   "metadata": {},
   "outputs": [],
   "source": [
    "def labe_count(data):\n",
    "    data.groupby(by=\"label\").count()[\"sampleid\"]/data[\"sampleid\"].count()\n",
    "    (data.groupby(by=\"label\").count()[\"sampleid\"]/data[\"sampleid\"].count()).plot(kind=\"bar\")\n",
    "def missing_rate(data):\n",
    "    null=pd.DataFrame(data.isnull().sum()/data[\"current_sub_TF\"].count(),columns=[\"col feature of missing ratio\"])\n",
    "    NULL=null.sort_values(\"col feature of missing ratio\",ascending=False)\n",
    "    return NULL\n",
    "def plot(NULL):\n",
    "        NULL[\"col feature of missing ratio\"].plot.barh(figsize=[5,10],title=\"col feature of missing ratio\")"
   ]
  },
  {
   "cell_type": "code",
   "execution_count": 7,
   "metadata": {},
   "outputs": [
    {
     "data": {
      "text/html": [
       "<div>\n",
       "<style scoped>\n",
       "    .dataframe tbody tr th:only-of-type {\n",
       "        vertical-align: middle;\n",
       "    }\n",
       "\n",
       "    .dataframe tbody tr th {\n",
       "        vertical-align: top;\n",
       "    }\n",
       "\n",
       "    .dataframe thead th {\n",
       "        text-align: right;\n",
       "    }\n",
       "</style>\n",
       "<table border=\"1\" class=\"dataframe\">\n",
       "  <thead>\n",
       "    <tr style=\"text-align: right;\">\n",
       "      <th></th>\n",
       "      <th>col feature of missing ratio</th>\n",
       "    </tr>\n",
       "  </thead>\n",
       "  <tbody>\n",
       "    <tr>\n",
       "      <th>cancel_date</th>\n",
       "      <td>0.866419</td>\n",
       "    </tr>\n",
       "    <tr>\n",
       "      <th>payment_type</th>\n",
       "      <td>0.742402</td>\n",
       "    </tr>\n",
       "    <tr>\n",
       "      <th>last_payment</th>\n",
       "      <td>0.363749</td>\n",
       "    </tr>\n",
       "    <tr>\n",
       "      <th>num_ideal_streaming_services</th>\n",
       "      <td>0.356967</td>\n",
       "    </tr>\n",
       "    <tr>\n",
       "      <th>num_weekly_services_utilized</th>\n",
       "      <td>0.355433</td>\n",
       "    </tr>\n",
       "    <tr>\n",
       "      <th>next_payment</th>\n",
       "      <td>0.353300</td>\n",
       "    </tr>\n",
       "    <tr>\n",
       "      <th>Unnamed: 0</th>\n",
       "      <td>0.000000</td>\n",
       "    </tr>\n",
       "    <tr>\n",
       "      <th>discount_price</th>\n",
       "      <td>0.000000</td>\n",
       "    </tr>\n",
       "    <tr>\n",
       "      <th>payment_period</th>\n",
       "      <td>0.000000</td>\n",
       "    </tr>\n",
       "    <tr>\n",
       "      <th>current_sub_TF</th>\n",
       "      <td>0.000000</td>\n",
       "    </tr>\n",
       "    <tr>\n",
       "      <th>num_trial_days</th>\n",
       "      <td>0.000000</td>\n",
       "    </tr>\n",
       "    <tr>\n",
       "      <th>join_fee</th>\n",
       "      <td>0.000000</td>\n",
       "    </tr>\n",
       "    <tr>\n",
       "      <th>initial_credit_card_declined</th>\n",
       "      <td>0.000000</td>\n",
       "    </tr>\n",
       "    <tr>\n",
       "      <th>trial_end_date</th>\n",
       "      <td>0.000000</td>\n",
       "    </tr>\n",
       "    <tr>\n",
       "      <th>account_creation_date</th>\n",
       "      <td>0.000000</td>\n",
       "    </tr>\n",
       "    <tr>\n",
       "      <th>monthly_price</th>\n",
       "      <td>0.000000</td>\n",
       "    </tr>\n",
       "    <tr>\n",
       "      <th>subid</th>\n",
       "      <td>0.000000</td>\n",
       "    </tr>\n",
       "    <tr>\n",
       "      <th>plan_type</th>\n",
       "      <td>0.000000</td>\n",
       "    </tr>\n",
       "    <tr>\n",
       "      <th>op_sys</th>\n",
       "      <td>0.000000</td>\n",
       "    </tr>\n",
       "    <tr>\n",
       "      <th>attribution_survey</th>\n",
       "      <td>0.000000</td>\n",
       "    </tr>\n",
       "    <tr>\n",
       "      <th>attribution_technical</th>\n",
       "      <td>0.000000</td>\n",
       "    </tr>\n",
       "    <tr>\n",
       "      <th>male_TF</th>\n",
       "      <td>0.000000</td>\n",
       "    </tr>\n",
       "    <tr>\n",
       "      <th>age</th>\n",
       "      <td>0.000000</td>\n",
       "    </tr>\n",
       "    <tr>\n",
       "      <th>weekly_consumption_hour</th>\n",
       "      <td>0.000000</td>\n",
       "    </tr>\n",
       "    <tr>\n",
       "      <th>intended_use</th>\n",
       "      <td>0.000000</td>\n",
       "    </tr>\n",
       "    <tr>\n",
       "      <th>preferred_genre</th>\n",
       "      <td>0.000000</td>\n",
       "    </tr>\n",
       "    <tr>\n",
       "      <th>package_type</th>\n",
       "      <td>0.000000</td>\n",
       "    </tr>\n",
       "    <tr>\n",
       "      <th>trial_completed</th>\n",
       "      <td>0.000000</td>\n",
       "    </tr>\n",
       "  </tbody>\n",
       "</table>\n",
       "</div>"
      ],
      "text/plain": [
       "                              col feature of missing ratio\n",
       "cancel_date                                       0.866419\n",
       "payment_type                                      0.742402\n",
       "last_payment                                      0.363749\n",
       "num_ideal_streaming_services                      0.356967\n",
       "num_weekly_services_utilized                      0.355433\n",
       "next_payment                                      0.353300\n",
       "Unnamed: 0                                        0.000000\n",
       "discount_price                                    0.000000\n",
       "payment_period                                    0.000000\n",
       "current_sub_TF                                    0.000000\n",
       "num_trial_days                                    0.000000\n",
       "join_fee                                          0.000000\n",
       "initial_credit_card_declined                      0.000000\n",
       "trial_end_date                                    0.000000\n",
       "account_creation_date                             0.000000\n",
       "monthly_price                                     0.000000\n",
       "subid                                             0.000000\n",
       "plan_type                                         0.000000\n",
       "op_sys                                            0.000000\n",
       "attribution_survey                                0.000000\n",
       "attribution_technical                             0.000000\n",
       "male_TF                                           0.000000\n",
       "age                                               0.000000\n",
       "weekly_consumption_hour                           0.000000\n",
       "intended_use                                      0.000000\n",
       "preferred_genre                                   0.000000\n",
       "package_type                                      0.000000\n",
       "trial_completed                                   0.000000"
      ]
     },
     "execution_count": 7,
     "metadata": {},
     "output_type": "execute_result"
    }
   ],
   "source": [
    "missing_rate(data)"
   ]
  },
  {
   "cell_type": "code",
   "execution_count": 8,
   "metadata": {},
   "outputs": [],
   "source": [
    "data2= data.drop(data[(data[\"payment_period\"]==0)&(data[\"current_sub_TF\"]==True)&(data[\"cancel_date\"].isnull()== True)].index)"
   ]
  },
  {
   "cell_type": "code",
   "execution_count": 9,
   "metadata": {},
   "outputs": [],
   "source": [
    "data2['label'] = 0"
   ]
  },
  {
   "cell_type": "code",
   "execution_count": 10,
   "metadata": {},
   "outputs": [],
   "source": [
    "data2.loc[ (data[\"payment_period\"]==0),'label'] = 1\n",
    "data2.loc[ (data[\"payment_period\"]!=0)&(data[\"cancel_date\"].isnull()== False),'label'] = 1"
   ]
  },
  {
   "cell_type": "code",
   "execution_count": 11,
   "metadata": {},
   "outputs": [
    {
     "data": {
      "text/html": [
       "<div>\n",
       "<style scoped>\n",
       "    .dataframe tbody tr th:only-of-type {\n",
       "        vertical-align: middle;\n",
       "    }\n",
       "\n",
       "    .dataframe tbody tr th {\n",
       "        vertical-align: top;\n",
       "    }\n",
       "\n",
       "    .dataframe thead th {\n",
       "        text-align: right;\n",
       "    }\n",
       "</style>\n",
       "<table border=\"1\" class=\"dataframe\">\n",
       "  <thead>\n",
       "    <tr style=\"text-align: right;\">\n",
       "      <th></th>\n",
       "      <th>Unnamed: 0</th>\n",
       "      <th>subid</th>\n",
       "      <th>package_type</th>\n",
       "      <th>num_weekly_services_utilized</th>\n",
       "      <th>preferred_genre</th>\n",
       "      <th>intended_use</th>\n",
       "      <th>weekly_consumption_hour</th>\n",
       "      <th>num_ideal_streaming_services</th>\n",
       "      <th>age</th>\n",
       "      <th>male_TF</th>\n",
       "      <th>...</th>\n",
       "      <th>initial_credit_card_declined</th>\n",
       "      <th>join_fee</th>\n",
       "      <th>payment_type</th>\n",
       "      <th>num_trial_days</th>\n",
       "      <th>current_sub_TF</th>\n",
       "      <th>payment_period</th>\n",
       "      <th>last_payment</th>\n",
       "      <th>next_payment</th>\n",
       "      <th>cancel_date</th>\n",
       "      <th>trial_completed</th>\n",
       "    </tr>\n",
       "    <tr>\n",
       "      <th>label</th>\n",
       "      <th></th>\n",
       "      <th></th>\n",
       "      <th></th>\n",
       "      <th></th>\n",
       "      <th></th>\n",
       "      <th></th>\n",
       "      <th></th>\n",
       "      <th></th>\n",
       "      <th></th>\n",
       "      <th></th>\n",
       "      <th></th>\n",
       "      <th></th>\n",
       "      <th></th>\n",
       "      <th></th>\n",
       "      <th></th>\n",
       "      <th></th>\n",
       "      <th></th>\n",
       "      <th></th>\n",
       "      <th></th>\n",
       "      <th></th>\n",
       "      <th></th>\n",
       "    </tr>\n",
       "  </thead>\n",
       "  <tbody>\n",
       "    <tr>\n",
       "      <th>0</th>\n",
       "      <td>86801</td>\n",
       "      <td>86801</td>\n",
       "      <td>86801</td>\n",
       "      <td>56306</td>\n",
       "      <td>86801</td>\n",
       "      <td>86801</td>\n",
       "      <td>86801</td>\n",
       "      <td>56199</td>\n",
       "      <td>86801</td>\n",
       "      <td>86801</td>\n",
       "      <td>...</td>\n",
       "      <td>86801</td>\n",
       "      <td>86801</td>\n",
       "      <td>22072</td>\n",
       "      <td>86801</td>\n",
       "      <td>86801</td>\n",
       "      <td>86801</td>\n",
       "      <td>86801</td>\n",
       "      <td>86295</td>\n",
       "      <td>0</td>\n",
       "      <td>86801</td>\n",
       "    </tr>\n",
       "    <tr>\n",
       "      <th>1</th>\n",
       "      <td>50832</td>\n",
       "      <td>50832</td>\n",
       "      <td>50832</td>\n",
       "      <td>32329</td>\n",
       "      <td>50832</td>\n",
       "      <td>50832</td>\n",
       "      <td>50832</td>\n",
       "      <td>32220</td>\n",
       "      <td>50832</td>\n",
       "      <td>50832</td>\n",
       "      <td>...</td>\n",
       "      <td>50832</td>\n",
       "      <td>50832</td>\n",
       "      <td>13171</td>\n",
       "      <td>50832</td>\n",
       "      <td>50832</td>\n",
       "      <td>50832</td>\n",
       "      <td>4473</td>\n",
       "      <td>655</td>\n",
       "      <td>19163</td>\n",
       "      <td>50832</td>\n",
       "    </tr>\n",
       "  </tbody>\n",
       "</table>\n",
       "<p>2 rows × 28 columns</p>\n",
       "</div>"
      ],
      "text/plain": [
       "       Unnamed: 0  subid  package_type  num_weekly_services_utilized  \\\n",
       "label                                                                  \n",
       "0           86801  86801         86801                         56306   \n",
       "1           50832  50832         50832                         32329   \n",
       "\n",
       "       preferred_genre  intended_use  weekly_consumption_hour  \\\n",
       "label                                                           \n",
       "0                86801         86801                    86801   \n",
       "1                50832         50832                    50832   \n",
       "\n",
       "       num_ideal_streaming_services    age  male_TF  ...  \\\n",
       "label                                                ...   \n",
       "0                             56199  86801    86801  ...   \n",
       "1                             32220  50832    50832  ...   \n",
       "\n",
       "       initial_credit_card_declined  join_fee  payment_type  num_trial_days  \\\n",
       "label                                                                         \n",
       "0                             86801     86801         22072           86801   \n",
       "1                             50832     50832         13171           50832   \n",
       "\n",
       "       current_sub_TF  payment_period  last_payment  next_payment  \\\n",
       "label                                                               \n",
       "0               86801           86801         86801         86295   \n",
       "1               50832           50832          4473           655   \n",
       "\n",
       "       cancel_date  trial_completed  \n",
       "label                                \n",
       "0                0            86801  \n",
       "1            19163            50832  \n",
       "\n",
       "[2 rows x 28 columns]"
      ]
     },
     "execution_count": 11,
     "metadata": {},
     "output_type": "execute_result"
    }
   ],
   "source": [
    "data2.groupby(data2[\"label\"]).count()"
   ]
  },
  {
   "cell_type": "code",
   "execution_count": 12,
   "metadata": {},
   "outputs": [],
   "source": [
    "data3=data2.drop([\"subid\",\"last_payment\",\"next_payment\",\n",
    "           \"account_creation_date\",\"trial_end_date\",\n",
    "           \"last_payment\",\"next_payment\",\"cancel_date\",\"plan_type\",\"num_weekly_services_utilized\",\"num_ideal_streaming_services\"],axis=1)"
   ]
  },
  {
   "cell_type": "code",
   "execution_count": 13,
   "metadata": {},
   "outputs": [],
   "source": [
    "data4=pd.get_dummies(data = data3[[\"package_type\",\"preferred_genre\",\"intended_use\",\n",
    "      \"male_TF\",\"attribution_technical\",\"attribution_survey\",\n",
    "     \"op_sys\",\"join_fee\",\"payment_period\",\"initial_credit_card_declined\",\n",
    "     \"trial_completed\"]])"
   ]
  },
  {
   "cell_type": "code",
   "execution_count": 14,
   "metadata": {},
   "outputs": [],
   "source": [
    "label=data3.label"
   ]
  },
  {
   "cell_type": "code",
   "execution_count": 15,
   "metadata": {},
   "outputs": [],
   "source": [
    "def plot_confusion_matrix(cm, classes,\n",
    "                          normalize=False,\n",
    "                          title='Confusion matrix',\n",
    "                          cmap=plt.cm.Blues):\n",
    "    \"\"\"\n",
    "    This function prints and plots the confusion matrix.\n",
    "    Normalization can be applied by setting `normalize=True`.\n",
    "    \"\"\"\n",
    "    if normalize:\n",
    "        cm = cm.astype('float') / cm.sum(axis=1)[:, np.newaxis]\n",
    "        print(\"Normalized confusion matrix\")\n",
    "    else:\n",
    "        print('Confusion matrix, without normalization')\n",
    "\n",
    "    print(cm)\n",
    "\n",
    "    plt.imshow(cm, interpolation='nearest', cmap=cmap)\n",
    "    plt.title(title)\n",
    "    plt.colorbar()\n",
    "    tick_marks = np.arange(len(classes))\n",
    "    plt.xticks(tick_marks, classes, rotation=45)\n",
    "    plt.yticks(tick_marks, classes)\n",
    "\n",
    "    fmt = '.2f' if normalize else 'd'\n",
    "    thresh = cm.max() / 2.\n",
    "    for i, j in itertools.product(range(cm.shape[0]), range(cm.shape[1])):\n",
    "        plt.text(j, i, format(cm[i, j], fmt),\n",
    "                 horizontalalignment=\"center\",\n",
    "                 color=\"white\" if cm[i, j] > thresh else \"black\")\n",
    "\n",
    "    plt.ylabel('True label')\n",
    "    plt.xlabel('Predicted label')\n",
    "    plt.tight_layout()"
   ]
  },
  {
   "cell_type": "code",
   "execution_count": 16,
   "metadata": {},
   "outputs": [],
   "source": [
    "def plot_roc(fpr, tpr):\n",
    "    plt.figure(figsize=[9,8])\n",
    "    lw=2\n",
    "    plt.plot(fpr,tpr,color=\"orange\",lw=lw,label=\"ROC curve (area = %0.2f)\"%roc_auc)\n",
    "    plt.plot([0.0,1],[0,1],color=\"navy\",lw=lw,linestyle=\"--\")\n",
    "    plt.xlim([0.0,1.0])\n",
    "    plt.ylim([0.0,1.05])\n",
    "    plt.xlabel(\"False Positive Rate\")\n",
    "    plt.ylabel(\"True Positive Rate\")\n",
    "    plt.title(\"ROC\")\n",
    "    plt.legend(loc=\"lower right\")\n",
    "    plt.show()"
   ]
  },
  {
   "cell_type": "code",
   "execution_count": 21,
   "metadata": {},
   "outputs": [],
   "source": [
    "feature_x = [tag for tag in data4.columns if tag not in ['label']]\n",
    "x = data4[feature_x].values\n",
    "y = data3['label']"
   ]
  },
  {
   "cell_type": "code",
   "execution_count": 22,
   "metadata": {},
   "outputs": [
    {
     "name": "stderr",
     "output_type": "stream",
     "text": [
      "/Users/aliccia/opt/anaconda3/lib/python3.8/site-packages/sklearn/linear_model/_logistic.py:762: ConvergenceWarning: lbfgs failed to converge (status=1):\n",
      "STOP: TOTAL NO. of ITERATIONS REACHED LIMIT.\n",
      "\n",
      "Increase the number of iterations (max_iter) or scale the data as shown in:\n",
      "    https://scikit-learn.org/stable/modules/preprocessing.html\n",
      "Please also refer to the documentation for alternative solver options:\n",
      "    https://scikit-learn.org/stable/modules/linear_model.html#logistic-regression\n",
      "  n_iter_i = _check_optimize_result(\n"
     ]
    },
    {
     "name": "stdout",
     "output_type": "stream",
     "text": [
      "              precision    recall  f1-score   support\n",
      "\n",
      "           0       0.96      1.00      0.98     86801\n",
      "           1       0.99      0.92      0.96     50832\n",
      "\n",
      "    accuracy                           0.97    137633\n",
      "   macro avg       0.97      0.96      0.97    137633\n",
      "weighted avg       0.97      0.97      0.97    137633\n",
      "\n"
     ]
    }
   ],
   "source": [
    "LR=LogisticRegression(penalty='l2', C=1.0, fit_intercept=True,)\n",
    "LR.fit(x,y)\n",
    "print(classification_report(y,LR.predict(x)))"
   ]
  },
  {
   "cell_type": "code",
   "execution_count": 23,
   "metadata": {},
   "outputs": [
    {
     "name": "stdout",
     "output_type": "stream",
     "text": [
      "Confusion matrix, without normalization\n",
      "[[86486   315]\n",
      " [ 4008 46824]]\n"
     ]
    },
    {
     "data": {
      "image/png": "[encoded data removed]",
      "text/plain": [
       "<Figure size 432x288 with 2 Axes>"
      ]
     },
     "metadata": {
      "needs_background": "light"
     },
     "output_type": "display_data"
    }
   ],
   "source": [
    "cm2=confusion_matrix(y,LR.predict(x))\n",
    "plot_confusion_matrix(cm2,classes=[0,1])"
   ]
  },
  {
   "cell_type": "code",
   "execution_count": 25,
   "metadata": {},
   "outputs": [
    {
     "data": {
      "image/png": "[encoded data removed]",
      "text/plain": [
       "<Figure size 648x576 with 1 Axes>"
      ]
     },
     "metadata": {
      "needs_background": "light"
     },
     "output_type": "display_data"
    }
   ],
   "source": [
    "roc_auc=roc_auc_score(y,LR.predict(x))\n",
    "y_score=LR.predict_proba(x)[:,1]\n",
    "fpr2,tpr2,thresholds2=roc_curve(y,y)\n",
    "plot_roc(fpr2,tpr2)"
   ]
  },
  {
   "cell_type": "code",
   "execution_count": 29,
   "metadata": {},
   "outputs": [],
   "source": [
    "data4['prob']=y_score"
   ]
  },
  {
   "cell_type": "code",
   "execution_count": 30,
   "metadata": {},
   "outputs": [],
   "source": [
    "data4.to_csv('problem3.csv')"
   ]
  },
  {
   "cell_type": "code",
   "execution_count": null,
   "metadata": {},
   "outputs": [],
   "source": []
  }
 ],
 "metadata": {
  "kernelspec": {
   "display_name": "Python 3",
   "language": "python",
   "name": "python3"
  },
  "language_info": {
   "codemirror_mode": {
    "name": "ipython",
    "version": 3
   },
   "file_extension": ".py",
   "mimetype": "text/x-python",
   "name": "python",
   "nbconvert_exporter": "python",
   "pygments_lexer": "ipython3",
   "version": "3.8.3"
  }
 },
 "nbformat": 4,
 "nbformat_minor": 4
}
