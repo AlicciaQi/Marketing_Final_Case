{
 "cells": [
  {
   "cell_type": "code",
   "execution_count": 1,
   "metadata": {},
   "outputs": [],
   "source": [
    "import os\n",
    "import pandas as pd\n",
    "import numpy as np\n",
    "from pandas import to_datetime\n",
    "from datetime import datetime"
   ]
  },
  {
   "cell_type": "code",
   "execution_count": 2,
   "metadata": {},
   "outputs": [
    {
     "name": "stdout",
     "output_type": "stream",
     "text": [
      "Current Working Directory  /Users/aliccia/Desktop/Final Case\n"
     ]
    }
   ],
   "source": [
    "print(\"Current Working Directory \" , os.getcwd())"
   ]
  },
  {
   "cell_type": "code",
   "execution_count": 3,
   "metadata": {},
   "outputs": [],
   "source": [
    "os.chdir(\"/Users/aliccia/Desktop/Final Case\")"
   ]
  },
  {
   "cell_type": "code",
   "execution_count": 4,
   "metadata": {},
   "outputs": [],
   "source": [
    "data = pd.read_csv(\"subscribers.csv\")"
   ]
  },
  {
   "cell_type": "code",
   "execution_count": 5,
   "metadata": {},
   "outputs": [],
   "source": [
    "data2 = data.dropna(how='any', subset=['attribution_technical','account_creation_date'])"
   ]
  },
  {
   "cell_type": "code",
   "execution_count": 6,
   "metadata": {},
   "outputs": [],
   "source": [
    "df_dt=to_datetime(data2.account_creation_date)\n",
    "df1=pd.concat([data2,df_dt],axis=1)"
   ]
  },
  {
   "cell_type": "code",
   "execution_count": 7,
   "metadata": {},
   "outputs": [],
   "source": [
    "data2[\"time\"]=pd.to_datetime(data2[\"account_creation_date\"])"
   ]
  },
  {
   "cell_type": "code",
   "execution_count": 8,
   "metadata": {},
   "outputs": [],
   "source": [
    "DATA=data2.set_index(\"time\")"
   ]
  },
  {
   "cell_type": "code",
   "execution_count": 9,
   "metadata": {},
   "outputs": [],
   "source": [
    "data2['year'] = data2['time'].dt.year\n",
    "data2['month'] = data2['time'].dt.month\n",
    "data2['day'] = data2['time'].dt.day"
   ]
  },
  {
   "cell_type": "code",
   "execution_count": 10,
   "metadata": {},
   "outputs": [
    {
     "data": {
      "text/html": [
       "<div>\n",
       "<style scoped>\n",
       "    .dataframe tbody tr th:only-of-type {\n",
       "        vertical-align: middle;\n",
       "    }\n",
       "\n",
       "    .dataframe tbody tr th {\n",
       "        vertical-align: top;\n",
       "    }\n",
       "\n",
       "    .dataframe thead th {\n",
       "        text-align: right;\n",
       "    }\n",
       "</style>\n",
       "<table border=\"1\" class=\"dataframe\">\n",
       "  <thead>\n",
       "    <tr style=\"text-align: right;\">\n",
       "      <th></th>\n",
       "      <th></th>\n",
       "      <th></th>\n",
       "      <th>subid</th>\n",
       "    </tr>\n",
       "    <tr>\n",
       "      <th>year</th>\n",
       "      <th>month</th>\n",
       "      <th>attribution_technical</th>\n",
       "      <th></th>\n",
       "    </tr>\n",
       "  </thead>\n",
       "  <tbody>\n",
       "    <tr>\n",
       "      <th rowspan=\"20\" valign=\"top\">2019</th>\n",
       "      <th rowspan=\"20\" valign=\"top\">6</th>\n",
       "      <th>affiliate</th>\n",
       "      <td>78</td>\n",
       "    </tr>\n",
       "    <tr>\n",
       "      <th>bing</th>\n",
       "      <td>7</td>\n",
       "    </tr>\n",
       "    <tr>\n",
       "      <th>bing_organic</th>\n",
       "      <td>2</td>\n",
       "    </tr>\n",
       "    <tr>\n",
       "      <th>brand sem intent bing</th>\n",
       "      <td>40</td>\n",
       "    </tr>\n",
       "    <tr>\n",
       "      <th>brand sem intent google</th>\n",
       "      <td>197</td>\n",
       "    </tr>\n",
       "    <tr>\n",
       "      <th>display</th>\n",
       "      <td>3</td>\n",
       "    </tr>\n",
       "    <tr>\n",
       "      <th>email</th>\n",
       "      <td>309</td>\n",
       "    </tr>\n",
       "    <tr>\n",
       "      <th>email_blast</th>\n",
       "      <td>109</td>\n",
       "    </tr>\n",
       "    <tr>\n",
       "      <th>facebook</th>\n",
       "      <td>1318</td>\n",
       "    </tr>\n",
       "    <tr>\n",
       "      <th>facebook_organic</th>\n",
       "      <td>33</td>\n",
       "    </tr>\n",
       "    <tr>\n",
       "      <th>google_organic</th>\n",
       "      <td>131</td>\n",
       "    </tr>\n",
       "    <tr>\n",
       "      <th>influencer</th>\n",
       "      <td>1</td>\n",
       "    </tr>\n",
       "    <tr>\n",
       "      <th>internal</th>\n",
       "      <td>32</td>\n",
       "    </tr>\n",
       "    <tr>\n",
       "      <th>organic</th>\n",
       "      <td>219</td>\n",
       "    </tr>\n",
       "    <tr>\n",
       "      <th>other</th>\n",
       "      <td>14</td>\n",
       "    </tr>\n",
       "    <tr>\n",
       "      <th>pinterest</th>\n",
       "      <td>37</td>\n",
       "    </tr>\n",
       "    <tr>\n",
       "      <th>referral</th>\n",
       "      <td>22</td>\n",
       "    </tr>\n",
       "    <tr>\n",
       "      <th>samsung</th>\n",
       "      <td>2</td>\n",
       "    </tr>\n",
       "    <tr>\n",
       "      <th>search</th>\n",
       "      <td>108</td>\n",
       "    </tr>\n",
       "    <tr>\n",
       "      <th>youtube</th>\n",
       "      <td>1</td>\n",
       "    </tr>\n",
       "  </tbody>\n",
       "</table>\n",
       "</div>"
      ],
      "text/plain": [
       "                                    subid\n",
       "year month attribution_technical         \n",
       "2019 6     affiliate                   78\n",
       "           bing                         7\n",
       "           bing_organic                 2\n",
       "           brand sem intent bing       40\n",
       "           brand sem intent google    197\n",
       "           display                      3\n",
       "           email                      309\n",
       "           email_blast                109\n",
       "           facebook                  1318\n",
       "           facebook_organic            33\n",
       "           google_organic             131\n",
       "           influencer                   1\n",
       "           internal                    32\n",
       "           organic                    219\n",
       "           other                       14\n",
       "           pinterest                   37\n",
       "           referral                    22\n",
       "           samsung                      2\n",
       "           search                     108\n",
       "           youtube                      1"
      ]
     },
     "execution_count": 10,
     "metadata": {},
     "output_type": "execute_result"
    }
   ],
   "source": [
    "groupby=pd.DataFrame(data2.groupby([\"year\",\"month\",\"attribution_technical\"])[\"subid\"].count())\n",
    "groupby.head(20)"
   ]
  },
  {
   "cell_type": "code",
   "execution_count": 11,
   "metadata": {},
   "outputs": [],
   "source": [
    "groupby.to_csv('groupby.csv')"
   ]
  },
  {
   "cell_type": "code",
   "execution_count": 12,
   "metadata": {},
   "outputs": [],
   "source": [
    "groupby1 = pd.read_csv(\"groupby.csv\")"
   ]
  },
  {
   "cell_type": "code",
   "execution_count": 13,
   "metadata": {},
   "outputs": [
    {
     "data": {
      "text/plain": [
       "Index(['year', 'month', 'attribution_technical', 'subid'], dtype='object')"
      ]
     },
     "execution_count": 13,
     "metadata": {},
     "output_type": "execute_result"
    }
   ],
   "source": [
    "groupby1.columns"
   ]
  },
  {
   "cell_type": "code",
   "execution_count": 14,
   "metadata": {},
   "outputs": [],
   "source": [
    "groupby2 = groupby1.loc[groupby1['attribution_technical'].isin(['bing','display','facebook','search','youtube'])]\n",
    "groupby3 = groupby2.rename(columns={'attribution_technical': 'channel', 'subid': 'customer_count'})"
   ]
  },
  {
   "cell_type": "code",
   "execution_count": 26,
   "metadata": {},
   "outputs": [],
   "source": [
    "groupby3.drop(groupby3.tail(5).index, inplace=True)\n",
    "groupby3.drop(groupby3.head(5).index, inplace=True)"
   ]
  },
  {
   "cell_type": "code",
   "execution_count": 16,
   "metadata": {},
   "outputs": [],
   "source": [
    "groupby3.to_csv('groupby3.csv')\n",
    "groupby3 = pd.read_csv(\"groupby3.csv\")"
   ]
  },
  {
   "cell_type": "code",
   "execution_count": 17,
   "metadata": {},
   "outputs": [
    {
     "data": {
      "text/html": [
       "<div>\n",
       "<style scoped>\n",
       "    .dataframe tbody tr th:only-of-type {\n",
       "        vertical-align: middle;\n",
       "    }\n",
       "\n",
       "    .dataframe tbody tr th {\n",
       "        vertical-align: top;\n",
       "    }\n",
       "\n",
       "    .dataframe thead th {\n",
       "        text-align: right;\n",
       "    }\n",
       "</style>\n",
       "<table border=\"1\" class=\"dataframe\">\n",
       "  <thead>\n",
       "    <tr style=\"text-align: right;\">\n",
       "      <th></th>\n",
       "      <th>channel</th>\n",
       "      <th>date</th>\n",
       "      <th>spend_AED</th>\n",
       "    </tr>\n",
       "  </thead>\n",
       "  <tbody>\n",
       "    <tr>\n",
       "      <th>0</th>\n",
       "      <td>bing</td>\n",
       "      <td>201907</td>\n",
       "      <td>400</td>\n",
       "    </tr>\n",
       "    <tr>\n",
       "      <th>1</th>\n",
       "      <td>display</td>\n",
       "      <td>201907</td>\n",
       "      <td>12</td>\n",
       "    </tr>\n",
       "    <tr>\n",
       "      <th>2</th>\n",
       "      <td>facebook</td>\n",
       "      <td>201907</td>\n",
       "      <td>9000</td>\n",
       "    </tr>\n",
       "    <tr>\n",
       "      <th>3</th>\n",
       "      <td>search</td>\n",
       "      <td>201907</td>\n",
       "      <td>13000</td>\n",
       "    </tr>\n",
       "    <tr>\n",
       "      <th>4</th>\n",
       "      <td>youtube</td>\n",
       "      <td>201907</td>\n",
       "      <td>90</td>\n",
       "    </tr>\n",
       "  </tbody>\n",
       "</table>\n",
       "</div>"
      ],
      "text/plain": [
       "    channel    date  spend_AED\n",
       "0      bing  201907        400\n",
       "1   display  201907         12\n",
       "2  facebook  201907       9000\n",
       "3    search  201907      13000\n",
       "4   youtube  201907         90"
      ]
     },
     "execution_count": 17,
     "metadata": {},
     "output_type": "execute_result"
    }
   ],
   "source": [
    "data = pd.read_csv(\"channel_spend_graduate.csv\")\n",
    "data.head()"
   ]
  },
  {
   "cell_type": "code",
   "execution_count": 18,
   "metadata": {},
   "outputs": [
    {
     "data": {
      "text/plain": [
       "0      120\n",
       "1       44\n",
       "2    10011\n",
       "3     1328\n",
       "4        8\n",
       "Name: customer_count, dtype: int64"
      ]
     },
     "execution_count": 18,
     "metadata": {},
     "output_type": "execute_result"
    }
   ],
   "source": [
    "sub_df = groupby3[\"customer_count\"]\n",
    "sub_df.head()"
   ]
  },
  {
   "cell_type": "code",
   "execution_count": 19,
   "metadata": {},
   "outputs": [
    {
     "data": {
      "text/html": [
       "<div>\n",
       "<style scoped>\n",
       "    .dataframe tbody tr th:only-of-type {\n",
       "        vertical-align: middle;\n",
       "    }\n",
       "\n",
       "    .dataframe tbody tr th {\n",
       "        vertical-align: top;\n",
       "    }\n",
       "\n",
       "    .dataframe thead th {\n",
       "        text-align: right;\n",
       "    }\n",
       "</style>\n",
       "<table border=\"1\" class=\"dataframe\">\n",
       "  <thead>\n",
       "    <tr style=\"text-align: right;\">\n",
       "      <th></th>\n",
       "      <th>channel</th>\n",
       "      <th>date</th>\n",
       "      <th>spend_AED</th>\n",
       "      <th>customer_count</th>\n",
       "    </tr>\n",
       "  </thead>\n",
       "  <tbody>\n",
       "    <tr>\n",
       "      <th>0</th>\n",
       "      <td>bing</td>\n",
       "      <td>201907</td>\n",
       "      <td>400</td>\n",
       "      <td>120</td>\n",
       "    </tr>\n",
       "    <tr>\n",
       "      <th>1</th>\n",
       "      <td>display</td>\n",
       "      <td>201907</td>\n",
       "      <td>12</td>\n",
       "      <td>44</td>\n",
       "    </tr>\n",
       "    <tr>\n",
       "      <th>2</th>\n",
       "      <td>facebook</td>\n",
       "      <td>201907</td>\n",
       "      <td>9000</td>\n",
       "      <td>10011</td>\n",
       "    </tr>\n",
       "    <tr>\n",
       "      <th>3</th>\n",
       "      <td>search</td>\n",
       "      <td>201907</td>\n",
       "      <td>13000</td>\n",
       "      <td>1328</td>\n",
       "    </tr>\n",
       "    <tr>\n",
       "      <th>4</th>\n",
       "      <td>youtube</td>\n",
       "      <td>201907</td>\n",
       "      <td>90</td>\n",
       "      <td>8</td>\n",
       "    </tr>\n",
       "  </tbody>\n",
       "</table>\n",
       "</div>"
      ],
      "text/plain": [
       "    channel    date  spend_AED  customer_count\n",
       "0      bing  201907        400             120\n",
       "1   display  201907         12              44\n",
       "2  facebook  201907       9000           10011\n",
       "3    search  201907      13000            1328\n",
       "4   youtube  201907         90               8"
      ]
     },
     "execution_count": 19,
     "metadata": {},
     "output_type": "execute_result"
    }
   ],
   "source": [
    "data = data.join(sub_df)\n",
    "data.head()"
   ]
  },
  {
   "cell_type": "code",
   "execution_count": 20,
   "metadata": {},
   "outputs": [
    {
     "name": "stdout",
     "output_type": "stream",
     "text": [
      "   channel  spend_AED  customer_count  margi_cost  margi_count  margi_cac\n",
      "25    bing        300              28       300.0         28.0  10.714286\n",
      "0     bing        400             120       100.0         92.0   1.086957\n",
      "5     bing        900              71       500.0        -49.0 -10.204082\n",
      "10    bing       1000              84       100.0         13.0   7.692308\n",
      "15    bing       1100              86       100.0          2.0  50.000000\n",
      "20    bing       1300             103       200.0         17.0  11.764706\n",
      "30    bing       2100             172       800.0         69.0  11.594203\n",
      "35    bing       3700             303      1600.0        131.0  12.213740\n"
     ]
    },
    {
     "name": "stderr",
     "output_type": "stream",
     "text": [
      "<ipython-input-20-b908b1e783c7>:3: SettingWithCopyWarning: \n",
      "A value is trying to be set on a copy of a slice from a DataFrame\n",
      "\n",
      "See the caveats in the documentation: https://pandas.pydata.org/pandas-docs/stable/user_guide/indexing.html#returning-a-view-versus-a-copy\n",
      "  bing.sort_values(by=['spend_AED'], inplace=True)\n",
      "<ipython-input-20-b908b1e783c7>:4: SettingWithCopyWarning: \n",
      "A value is trying to be set on a copy of a slice from a DataFrame.\n",
      "Try using .loc[row_indexer,col_indexer] = value instead\n",
      "\n",
      "See the caveats in the documentation: https://pandas.pydata.org/pandas-docs/stable/user_guide/indexing.html#returning-a-view-versus-a-copy\n",
      "  bing['margi_cost'] = bing['spend_AED'] - bing['spend_AED'].shift(1)\n",
      "<ipython-input-20-b908b1e783c7>:5: SettingWithCopyWarning: \n",
      "A value is trying to be set on a copy of a slice from a DataFrame.\n",
      "Try using .loc[row_indexer,col_indexer] = value instead\n",
      "\n",
      "See the caveats in the documentation: https://pandas.pydata.org/pandas-docs/stable/user_guide/indexing.html#returning-a-view-versus-a-copy\n",
      "  bing['margi_count'] = bing['customer_count'] - bing['customer_count'].shift(1)\n",
      "/Users/aliccia/opt/anaconda3/lib/python3.8/site-packages/pandas/core/generic.py:6245: SettingWithCopyWarning: \n",
      "A value is trying to be set on a copy of a slice from a DataFrame\n",
      "\n",
      "See the caveats in the documentation: https://pandas.pydata.org/pandas-docs/stable/user_guide/indexing.html#returning-a-view-versus-a-copy\n",
      "  self._update_inplace(new_data)\n",
      "<ipython-input-20-b908b1e783c7>:8: SettingWithCopyWarning: \n",
      "A value is trying to be set on a copy of a slice from a DataFrame.\n",
      "Try using .loc[row_indexer,col_indexer] = value instead\n",
      "\n",
      "See the caveats in the documentation: https://pandas.pydata.org/pandas-docs/stable/user_guide/indexing.html#returning-a-view-versus-a-copy\n",
      "  bing['margi_cac'] = bing.margi_cost / bing.margi_count\n",
      "/Users/aliccia/opt/anaconda3/lib/python3.8/site-packages/pandas/core/frame.py:3990: SettingWithCopyWarning: \n",
      "A value is trying to be set on a copy of a slice from a DataFrame\n",
      "\n",
      "See the caveats in the documentation: https://pandas.pydata.org/pandas-docs/stable/user_guide/indexing.html#returning-a-view-versus-a-copy\n",
      "  return super().drop(\n"
     ]
    }
   ],
   "source": [
    "bing = data.groupby('channel').get_group('bing')\n",
    "# sort Brand - ascending order\n",
    "bing.sort_values(by=['spend_AED'], inplace=True)\n",
    "bing['margi_cost'] = bing['spend_AED'] - bing['spend_AED'].shift(1)\n",
    "bing['margi_count'] = bing['customer_count'] - bing['customer_count'].shift(1)\n",
    "bing['margi_cost'].fillna(300.0, inplace = True)\n",
    "bing['margi_count'].fillna(28.0, inplace = True)\n",
    "bing['margi_cac'] = bing.margi_cost / bing.margi_count\n",
    "bing.drop([\"date\"], axis = 1, inplace = True) \n",
    "print(bing)"
   ]
  },
  {
   "cell_type": "code",
   "execution_count": 27,
   "metadata": {},
   "outputs": [
    {
     "name": "stdout",
     "output_type": "stream",
     "text": [
      "    channel  spend_AED  customer_count  margi_cost  margi_count  margi_cac\n",
      "1   display         12              44        12.0         44.0   0.272727\n",
      "11  display         13              12         1.0        -32.0  -0.031250\n",
      "16  display         19              50         6.0         38.0   0.157895\n",
      "6   display         20              74         1.0         24.0   0.041667\n",
      "21  display         29              90         9.0         16.0   0.562500\n",
      "26  display         31             112         2.0         22.0   0.090909\n",
      "36  display         94             341        63.0        229.0   0.275109\n",
      "31  display        148             536        54.0        195.0   0.276923\n"
     ]
    },
    {
     "name": "stderr",
     "output_type": "stream",
     "text": [
      "<ipython-input-27-fba072d8c447>:2: SettingWithCopyWarning: \n",
      "A value is trying to be set on a copy of a slice from a DataFrame\n",
      "\n",
      "See the caveats in the documentation: https://pandas.pydata.org/pandas-docs/stable/user_guide/indexing.html#returning-a-view-versus-a-copy\n",
      "  display.sort_values(by=['spend_AED'], inplace=True)\n",
      "<ipython-input-27-fba072d8c447>:3: SettingWithCopyWarning: \n",
      "A value is trying to be set on a copy of a slice from a DataFrame.\n",
      "Try using .loc[row_indexer,col_indexer] = value instead\n",
      "\n",
      "See the caveats in the documentation: https://pandas.pydata.org/pandas-docs/stable/user_guide/indexing.html#returning-a-view-versus-a-copy\n",
      "  display['margi_cost'] = display['spend_AED'] - display['spend_AED'].shift(1)\n",
      "<ipython-input-27-fba072d8c447>:4: SettingWithCopyWarning: \n",
      "A value is trying to be set on a copy of a slice from a DataFrame.\n",
      "Try using .loc[row_indexer,col_indexer] = value instead\n",
      "\n",
      "See the caveats in the documentation: https://pandas.pydata.org/pandas-docs/stable/user_guide/indexing.html#returning-a-view-versus-a-copy\n",
      "  display['margi_count'] = display['customer_count'] - display['customer_count'].shift(1)\n",
      "/Users/aliccia/opt/anaconda3/lib/python3.8/site-packages/pandas/core/generic.py:6245: SettingWithCopyWarning: \n",
      "A value is trying to be set on a copy of a slice from a DataFrame\n",
      "\n",
      "See the caveats in the documentation: https://pandas.pydata.org/pandas-docs/stable/user_guide/indexing.html#returning-a-view-versus-a-copy\n",
      "  self._update_inplace(new_data)\n",
      "<ipython-input-27-fba072d8c447>:7: SettingWithCopyWarning: \n",
      "A value is trying to be set on a copy of a slice from a DataFrame.\n",
      "Try using .loc[row_indexer,col_indexer] = value instead\n",
      "\n",
      "See the caveats in the documentation: https://pandas.pydata.org/pandas-docs/stable/user_guide/indexing.html#returning-a-view-versus-a-copy\n",
      "  display['margi_cac'] = display.margi_cost / display.margi_count\n",
      "/Users/aliccia/opt/anaconda3/lib/python3.8/site-packages/pandas/core/frame.py:3990: SettingWithCopyWarning: \n",
      "A value is trying to be set on a copy of a slice from a DataFrame\n",
      "\n",
      "See the caveats in the documentation: https://pandas.pydata.org/pandas-docs/stable/user_guide/indexing.html#returning-a-view-versus-a-copy\n",
      "  return super().drop(\n"
     ]
    }
   ],
   "source": [
    "display = data.groupby('channel').get_group('display')\n",
    "display.sort_values(by=['spend_AED'], inplace=True)\n",
    "display['margi_cost'] = display['spend_AED'] - display['spend_AED'].shift(1)\n",
    "display['margi_count'] = display['customer_count'] - display['customer_count'].shift(1)\n",
    "display['margi_cost'].fillna(12.0, inplace = True)\n",
    "display['margi_count'].fillna(44.0, inplace = True)\n",
    "display['margi_cac'] = display.margi_cost / display.margi_count\n",
    "display.drop([\"date\"], axis = 1, inplace = True) \n",
    "print(display)"
   ]
  },
  {
   "cell_type": "code",
   "execution_count": 28,
   "metadata": {},
   "outputs": [
    {
     "name": "stdout",
     "output_type": "stream",
     "text": [
      "     channel  spend_AED  customer_count  margi_cost  margi_count  margi_cac\n",
      "2   facebook       9000           10011      9000.0      10011.0   0.899011\n",
      "12  facebook      10500            6129      1500.0      -3882.0  -0.386399\n",
      "32  facebook      11000            6289       500.0        160.0   3.125000\n",
      "7   facebook      13000            9855      2000.0       3566.0   0.560852\n",
      "37  facebook      14000            7988      1000.0      -1867.0  -0.535619\n",
      "27  facebook      16000            9288      2000.0       1300.0   1.538462\n",
      "17  facebook      17000            9489      1000.0        201.0   4.975124\n",
      "22  facebook      23000           12995      6000.0       3506.0   1.711352\n"
     ]
    },
    {
     "name": "stderr",
     "output_type": "stream",
     "text": [
      "<ipython-input-28-0ef1ed125b9c>:2: SettingWithCopyWarning: \n",
      "A value is trying to be set on a copy of a slice from a DataFrame\n",
      "\n",
      "See the caveats in the documentation: https://pandas.pydata.org/pandas-docs/stable/user_guide/indexing.html#returning-a-view-versus-a-copy\n",
      "  facebook.sort_values(by=['spend_AED'], inplace=True)\n",
      "<ipython-input-28-0ef1ed125b9c>:3: SettingWithCopyWarning: \n",
      "A value is trying to be set on a copy of a slice from a DataFrame.\n",
      "Try using .loc[row_indexer,col_indexer] = value instead\n",
      "\n",
      "See the caveats in the documentation: https://pandas.pydata.org/pandas-docs/stable/user_guide/indexing.html#returning-a-view-versus-a-copy\n",
      "  facebook['margi_cost'] = facebook['spend_AED'] - facebook['spend_AED'].shift(1)\n",
      "<ipython-input-28-0ef1ed125b9c>:4: SettingWithCopyWarning: \n",
      "A value is trying to be set on a copy of a slice from a DataFrame.\n",
      "Try using .loc[row_indexer,col_indexer] = value instead\n",
      "\n",
      "See the caveats in the documentation: https://pandas.pydata.org/pandas-docs/stable/user_guide/indexing.html#returning-a-view-versus-a-copy\n",
      "  facebook['margi_count'] = facebook['customer_count'] - facebook['customer_count'].shift(1)\n",
      "/Users/aliccia/opt/anaconda3/lib/python3.8/site-packages/pandas/core/generic.py:6245: SettingWithCopyWarning: \n",
      "A value is trying to be set on a copy of a slice from a DataFrame\n",
      "\n",
      "See the caveats in the documentation: https://pandas.pydata.org/pandas-docs/stable/user_guide/indexing.html#returning-a-view-versus-a-copy\n",
      "  self._update_inplace(new_data)\n",
      "<ipython-input-28-0ef1ed125b9c>:7: SettingWithCopyWarning: \n",
      "A value is trying to be set on a copy of a slice from a DataFrame.\n",
      "Try using .loc[row_indexer,col_indexer] = value instead\n",
      "\n",
      "See the caveats in the documentation: https://pandas.pydata.org/pandas-docs/stable/user_guide/indexing.html#returning-a-view-versus-a-copy\n",
      "  facebook['margi_cac'] = facebook.margi_cost / facebook.margi_count\n",
      "/Users/aliccia/opt/anaconda3/lib/python3.8/site-packages/pandas/core/frame.py:3990: SettingWithCopyWarning: \n",
      "A value is trying to be set on a copy of a slice from a DataFrame\n",
      "\n",
      "See the caveats in the documentation: https://pandas.pydata.org/pandas-docs/stable/user_guide/indexing.html#returning-a-view-versus-a-copy\n",
      "  return super().drop(\n"
     ]
    }
   ],
   "source": [
    "facebook = data.groupby('channel').get_group('facebook')\n",
    "facebook.sort_values(by=['spend_AED'], inplace=True)\n",
    "facebook['margi_cost'] = facebook['spend_AED'] - facebook['spend_AED'].shift(1)\n",
    "facebook['margi_count'] = facebook['customer_count'] - facebook['customer_count'].shift(1)\n",
    "facebook['margi_cost'].fillna(9000.0, inplace = True)\n",
    "facebook['margi_count'].fillna(10011.0, inplace = True)\n",
    "facebook['margi_cac'] = facebook.margi_cost / facebook.margi_count\n",
    "facebook.drop([\"date\"], axis = 1, inplace = True) \n",
    "print(facebook)"
   ]
  },
  {
   "cell_type": "code",
   "execution_count": 29,
   "metadata": {},
   "outputs": [
    {
     "name": "stdout",
     "output_type": "stream",
     "text": [
      "   channel  spend_AED  customer_count  margi_cost  margi_count  margi_cac\n",
      "3   search      13000            1328     13000.0       1328.0   9.789157\n",
      "8   search      18500            1939      5500.0        611.0   9.001637\n",
      "13  search      19000            1852       500.0        -87.0  -5.747126\n",
      "18  search      24000            2333      5000.0        481.0  10.395010\n",
      "23  search      25000            2510      1000.0        177.0   5.649718\n",
      "28  search      38000            3770     13000.0       1260.0  10.317460\n",
      "33  search      41000            4073      3000.0        303.0   9.900990\n",
      "38  search      44000            4300      3000.0        227.0  13.215859\n"
     ]
    },
    {
     "name": "stderr",
     "output_type": "stream",
     "text": [
      "<ipython-input-29-30bf0e0b73d8>:2: SettingWithCopyWarning: \n",
      "A value is trying to be set on a copy of a slice from a DataFrame\n",
      "\n",
      "See the caveats in the documentation: https://pandas.pydata.org/pandas-docs/stable/user_guide/indexing.html#returning-a-view-versus-a-copy\n",
      "  search.sort_values(by=['spend_AED'], inplace=True)\n",
      "<ipython-input-29-30bf0e0b73d8>:3: SettingWithCopyWarning: \n",
      "A value is trying to be set on a copy of a slice from a DataFrame.\n",
      "Try using .loc[row_indexer,col_indexer] = value instead\n",
      "\n",
      "See the caveats in the documentation: https://pandas.pydata.org/pandas-docs/stable/user_guide/indexing.html#returning-a-view-versus-a-copy\n",
      "  search['margi_cost'] = search['spend_AED'] - search['spend_AED'].shift(1)\n",
      "<ipython-input-29-30bf0e0b73d8>:4: SettingWithCopyWarning: \n",
      "A value is trying to be set on a copy of a slice from a DataFrame.\n",
      "Try using .loc[row_indexer,col_indexer] = value instead\n",
      "\n",
      "See the caveats in the documentation: https://pandas.pydata.org/pandas-docs/stable/user_guide/indexing.html#returning-a-view-versus-a-copy\n",
      "  search['margi_count'] = search['customer_count'] - search['customer_count'].shift(1)\n",
      "/Users/aliccia/opt/anaconda3/lib/python3.8/site-packages/pandas/core/generic.py:6245: SettingWithCopyWarning: \n",
      "A value is trying to be set on a copy of a slice from a DataFrame\n",
      "\n",
      "See the caveats in the documentation: https://pandas.pydata.org/pandas-docs/stable/user_guide/indexing.html#returning-a-view-versus-a-copy\n",
      "  self._update_inplace(new_data)\n",
      "<ipython-input-29-30bf0e0b73d8>:7: SettingWithCopyWarning: \n",
      "A value is trying to be set on a copy of a slice from a DataFrame.\n",
      "Try using .loc[row_indexer,col_indexer] = value instead\n",
      "\n",
      "See the caveats in the documentation: https://pandas.pydata.org/pandas-docs/stable/user_guide/indexing.html#returning-a-view-versus-a-copy\n",
      "  search['margi_cac'] = search.margi_cost / search.margi_count\n",
      "/Users/aliccia/opt/anaconda3/lib/python3.8/site-packages/pandas/core/frame.py:3990: SettingWithCopyWarning: \n",
      "A value is trying to be set on a copy of a slice from a DataFrame\n",
      "\n",
      "See the caveats in the documentation: https://pandas.pydata.org/pandas-docs/stable/user_guide/indexing.html#returning-a-view-versus-a-copy\n",
      "  return super().drop(\n"
     ]
    }
   ],
   "source": [
    "search = data.groupby('channel').get_group('search')\n",
    "search.sort_values(by=['spend_AED'], inplace=True)\n",
    "search['margi_cost'] = search['spend_AED'] - search['spend_AED'].shift(1)\n",
    "search['margi_count'] = search['customer_count'] - search['customer_count'].shift(1)\n",
    "search['margi_cost'].fillna(13000.0, inplace = True)\n",
    "search['margi_count'].fillna(1328.0, inplace = True)\n",
    "search['margi_cac'] = search.margi_cost / search.margi_count\n",
    "search.drop([\"date\"], axis = 1, inplace = True) \n",
    "print(search)"
   ]
  },
  {
   "cell_type": "code",
   "execution_count": 30,
   "metadata": {},
   "outputs": [
    {
     "name": "stdout",
     "output_type": "stream",
     "text": [
      "    channel  spend_AED  customer_count  margi_cost  margi_count  margi_cac\n",
      "4   youtube         90               8        90.0          8.0  11.250000\n",
      "14  youtube        100               2        10.0         -6.0  -1.666667\n",
      "19  youtube        130              11        30.0          9.0   3.333333\n",
      "9   youtube        180              15        50.0          4.0  12.500000\n",
      "24  youtube        550              47       370.0         32.0  11.562500\n",
      "29  youtube        900              76       350.0         29.0  12.068966\n",
      "39  youtube       2420             205      1520.0        129.0  11.782946\n",
      "34  youtube       4360             370      1940.0        165.0  11.757576\n"
     ]
    },
    {
     "name": "stderr",
     "output_type": "stream",
     "text": [
      "<ipython-input-30-e0233426f9d7>:2: SettingWithCopyWarning: \n",
      "A value is trying to be set on a copy of a slice from a DataFrame\n",
      "\n",
      "See the caveats in the documentation: https://pandas.pydata.org/pandas-docs/stable/user_guide/indexing.html#returning-a-view-versus-a-copy\n",
      "  youtube.sort_values(by=['spend_AED'], inplace=True)\n",
      "<ipython-input-30-e0233426f9d7>:3: SettingWithCopyWarning: \n",
      "A value is trying to be set on a copy of a slice from a DataFrame.\n",
      "Try using .loc[row_indexer,col_indexer] = value instead\n",
      "\n",
      "See the caveats in the documentation: https://pandas.pydata.org/pandas-docs/stable/user_guide/indexing.html#returning-a-view-versus-a-copy\n",
      "  youtube['margi_cost'] = youtube['spend_AED'] - youtube['spend_AED'].shift(1)\n",
      "<ipython-input-30-e0233426f9d7>:4: SettingWithCopyWarning: \n",
      "A value is trying to be set on a copy of a slice from a DataFrame.\n",
      "Try using .loc[row_indexer,col_indexer] = value instead\n",
      "\n",
      "See the caveats in the documentation: https://pandas.pydata.org/pandas-docs/stable/user_guide/indexing.html#returning-a-view-versus-a-copy\n",
      "  youtube['margi_count'] = youtube['customer_count'] - youtube['customer_count'].shift(1)\n",
      "/Users/aliccia/opt/anaconda3/lib/python3.8/site-packages/pandas/core/generic.py:6245: SettingWithCopyWarning: \n",
      "A value is trying to be set on a copy of a slice from a DataFrame\n",
      "\n",
      "See the caveats in the documentation: https://pandas.pydata.org/pandas-docs/stable/user_guide/indexing.html#returning-a-view-versus-a-copy\n",
      "  self._update_inplace(new_data)\n",
      "<ipython-input-30-e0233426f9d7>:7: SettingWithCopyWarning: \n",
      "A value is trying to be set on a copy of a slice from a DataFrame.\n",
      "Try using .loc[row_indexer,col_indexer] = value instead\n",
      "\n",
      "See the caveats in the documentation: https://pandas.pydata.org/pandas-docs/stable/user_guide/indexing.html#returning-a-view-versus-a-copy\n",
      "  youtube['margi_cac'] = youtube.margi_cost / youtube.margi_count\n",
      "/Users/aliccia/opt/anaconda3/lib/python3.8/site-packages/pandas/core/frame.py:3990: SettingWithCopyWarning: \n",
      "A value is trying to be set on a copy of a slice from a DataFrame\n",
      "\n",
      "See the caveats in the documentation: https://pandas.pydata.org/pandas-docs/stable/user_guide/indexing.html#returning-a-view-versus-a-copy\n",
      "  return super().drop(\n"
     ]
    }
   ],
   "source": [
    "youtube = data.groupby('channel').get_group('youtube')\n",
    "youtube.sort_values(by=['spend_AED'], inplace=True)\n",
    "youtube['margi_cost'] = youtube['spend_AED'] - youtube['spend_AED'].shift(1)\n",
    "youtube['margi_count'] = youtube['customer_count'] - youtube['customer_count'].shift(1)\n",
    "youtube['margi_cost'].fillna(90.0, inplace = True)\n",
    "youtube['margi_count'].fillna(8.0, inplace = True)\n",
    "youtube['margi_cac'] = youtube.margi_cost / youtube.margi_count\n",
    "youtube.drop([\"date\"], axis = 1, inplace = True) \n",
    "print(youtube)"
   ]
  },
  {
   "cell_type": "code",
   "execution_count": null,
   "metadata": {},
   "outputs": [],
   "source": []
  }
 ],
 "metadata": {
  "kernelspec": {
   "display_name": "Python 3",
   "language": "python",
   "name": "python3"
  },
  "language_info": {
   "codemirror_mode": {
    "name": "ipython",
    "version": 3
   },
   "file_extension": ".py",
   "mimetype": "text/x-python",
   "name": "python",
   "nbconvert_exporter": "python",
   "pygments_lexer": "ipython3",
   "version": "3.8.3"
  }
 },
 "nbformat": 4,
 "nbformat_minor": 4
}
